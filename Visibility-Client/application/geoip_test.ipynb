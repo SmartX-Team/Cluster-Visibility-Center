{
 "cells": [
  {
   "cell_type": "code",
   "execution_count": 18,
   "metadata": {},
   "outputs": [
    {
     "name": "stdout",
     "output_type": "stream",
     "text": [
      "['KR', 37.5112, 126.9741]\n"
     ]
    }
   ],
   "source": [
    "import requests\n",
    "from bs4 import BeautifulSoup\n",
    "\n",
    "\n",
    "def get_loc(addr):\n",
    "    url = \"https://geoiptool.com/en/\"\n",
    "    params = {\"ip\":addr}\n",
    "    html = requests.get(url, params=params).text\n",
    "    soup = BeautifulSoup(html, 'html.parser')\n",
    "\n",
    "    country = soup.select('.data-item')[3].select('span')[1].text[:2]\n",
    "    lat = float(soup.select('.data-item')[8].select('span')[1].text)\n",
    "    lng = float(soup.select('.data-item')[9].select('span')[1].text)\n",
    "\n",
    "    return [country, lat, lng]\n",
    "\n",
    "\n",
    "print(get_loc(\"210.125.84.116\"))"
   ]
  },
  {
   "cell_type": "code",
   "execution_count": null,
   "metadata": {
    "collapsed": true
   },
   "outputs": [],
   "source": []
  }
 ],
 "metadata": {
  "kernelspec": {
   "display_name": "Python 3",
   "language": "python",
   "name": "python3"
  },
  "language_info": {
   "codemirror_mode": {
    "name": "ipython",
    "version": 3
   },
   "file_extension": ".py",
   "mimetype": "text/x-python",
   "name": "python",
   "nbconvert_exporter": "python",
   "pygments_lexer": "ipython3",
   "version": "3.6.1"
  }
 },
 "nbformat": 4,
 "nbformat_minor": 2
}
